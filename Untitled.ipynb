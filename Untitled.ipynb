{
 "cells": [
  {
   "cell_type": "code",
   "execution_count": 3,
   "id": "335000a0-5f4a-42b9-99a6-0c7583ed0070",
   "metadata": {},
   "outputs": [],
   "source": [
    "import numpy as np\n",
    "import matplotlib.pyplot as plt\n"
   ]
  },
  {
   "cell_type": "code",
   "execution_count": 35,
   "id": "f92f1c92-f115-4442-a4d8-aa78c147f153",
   "metadata": {},
   "outputs": [],
   "source": [
    "k1 = 8.94\n",
    "#k2 = 4.3\n",
    "#k3 = 14.48\n",
    "\n",
    "k3= 4.3\n",
    "k2 = 14.48\n",
    "\n",
    "\n",
    "# Ex = [0 ; 3000]\n",
    "Ex = 1000\n",
    "\n",
    "delta_x = 1\n",
    "dx = delta_x\n",
    "\n",
    "#T0 = [0 ; 10]\n",
    "T0 = 0.1"
   ]
  },
  {
   "cell_type": "code",
   "execution_count": 36,
   "id": "f16002a2-5ae0-4417-a644-b5a1bdb716a0",
   "metadata": {},
   "outputs": [],
   "source": [
    "k13 = k1 - k3"
   ]
  },
  {
   "cell_type": "code",
   "execution_count": 37,
   "id": "e05cc4a2-a31b-4cb0-b006-71c3f1d3c074",
   "metadata": {},
   "outputs": [],
   "source": [
    "Theta_initValue = np.pi / 2\n",
    "Theta_finValue = 0\n",
    "\n",
    "Theta = np.linspace(Theta_initValue, Theta_finValue, 1000)\n",
    "\n",
    "# Qx - d/dx (Theta)\n",
    "Qx = [((Theta[i+1] - Theta[i-1]) / (2 * delta_x)) for i in range(1, len(Theta)-1)]"
   ]
  },
  {
   "cell_type": "code",
   "execution_count": 38,
   "id": "5b0b2fc8-7ca7-4c7b-9e10-aaf0811bb5cc",
   "metadata": {},
   "outputs": [],
   "source": [
    "Phi_initValue = np.pi / 2\n",
    "Phi_finValue = -np.pi / 2\n",
    "\n",
    "Phi = np.linspace(Phi_initValue, Phi_finValue, 1000)\n",
    "\n",
    "# Fx - d/dx (Phi)\n",
    "Fx = [( (Phi[i] - Phi[i-1]) / dx) for i in range(1, len(Phi)-1)]"
   ]
  },
  {
   "cell_type": "code",
   "execution_count": 39,
   "id": "bc09144c-d9a5-4b52-adef-494664022392",
   "metadata": {},
   "outputs": [],
   "source": [
    "A = [np.sqrt(Ex**2 + Qx[i] * k13) for i in range(len(Qx))]"
   ]
  },
  {
   "cell_type": "code",
   "execution_count": 49,
   "id": "a9002e90-6dd6-40a4-94ba-0407bb93cf71",
   "metadata": {},
   "outputs": [],
   "source": [
    "Solves1 = [np.arccos((np.sqrt(k2) * np.sqrt(A[i] + np.sqrt(k3)) * T0) / (np.sqrt(A[i]) * np.sqrt(k2 - k3))) for i in range(len(A))]\n"
   ]
  },
  {
   "cell_type": "code",
   "execution_count": 51,
   "id": "4ba4826a-9ee7-4028-8d20-c09cbbf62f42",
   "metadata": {},
   "outputs": [
    {
     "data": {
      "text/plain": [
       "True"
      ]
     },
     "execution_count": 51,
     "metadata": {},
     "output_type": "execute_result"
    }
   ],
   "source": [
    "Solves1[4] == Solves1[6]"
   ]
  },
  {
   "cell_type": "code",
   "execution_count": null,
   "id": "daf2c1c6-ea0c-40b9-ad63-208a5e2c578e",
   "metadata": {},
   "outputs": [],
   "source": []
  },
  {
   "cell_type": "code",
   "execution_count": null,
   "id": "9b773aee-9648-4171-ba0f-d264b965d6bd",
   "metadata": {},
   "outputs": [],
   "source": []
  }
 ],
 "metadata": {
  "kernelspec": {
   "display_name": "Python 3 (ipykernel)",
   "language": "python",
   "name": "python3"
  },
  "language_info": {
   "codemirror_mode": {
    "name": "ipython",
    "version": 3
   },
   "file_extension": ".py",
   "mimetype": "text/x-python",
   "name": "python",
   "nbconvert_exporter": "python",
   "pygments_lexer": "ipython3",
   "version": "3.11.7"
  }
 },
 "nbformat": 4,
 "nbformat_minor": 5
}
