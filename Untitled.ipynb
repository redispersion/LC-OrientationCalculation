{
 "cells": [
  {
   "cell_type": "code",
   "execution_count": 1,
   "id": "335000a0-5f4a-42b9-99a6-0c7583ed0070",
   "metadata": {},
   "outputs": [],
   "source": [
    "import numpy as np\n",
    "import matplotlib.pyplot as plt\n"
   ]
  },
  {
   "cell_type": "code",
   "execution_count": 2,
   "id": "f92f1c92-f115-4442-a4d8-aa78c147f153",
   "metadata": {},
   "outputs": [],
   "source": [
    "k1 = 8.94\n",
    "k2 = 4.3\n",
    "k3 = 14.48\n",
    "\n",
    "# Ex = [0 ; 3000]\n",
    "Ex = 1000\n",
    "\n",
    "delta_x = 1\n",
    "dx = delta_x\n",
    "\n",
    "#T0 = [0 ; 10]\n",
    "T0 = 0.1"
   ]
  },
  {
   "cell_type": "code",
   "execution_count": 78,
   "id": "e05cc4a2-a31b-4cb0-b006-71c3f1d3c074",
   "metadata": {},
   "outputs": [],
   "source": [
    "Theta_initValue = np.pi / 2\n",
    "Theta_finValue = 0\n",
    "\n",
    "Theta = np.linspace(Theta_initValue, Theta_finValue, 1000)\n",
    "\n",
    "# Qx - d/dx (Theta)\n",
    "Qx = [((Theta[i+1] - Theta[i-1]) / (2 * delta_x)) for i in range(1, len(Theta)-1)]"
   ]
  },
  {
   "cell_type": "code",
   "execution_count": 113,
   "id": "5b0b2fc8-7ca7-4c7b-9e10-aaf0811bb5cc",
   "metadata": {},
   "outputs": [],
   "source": [
    "Phi_initValue = np.pi / 2\n",
    "Phi_finValue = -np.pi / 2\n",
    "\n",
    "Phi = np.linspace(Phi_initValue, Phi_finValue, 1000)\n",
    "\n",
    "# Fx - d/dx (Phi)\n",
    "Fx = [( (Phi[i] - Phi[i-1]) / dx) for i in range(1, len(Phi)-1)]"
   ]
  },
  {
   "cell_type": "code",
   "execution_count": 5,
   "id": "14e5af57-24d5-442c-acb1-1eb70e4bc538",
   "metadata": {},
   "outputs": [],
   "source": [
    "Solve1 = [0] * len(Qx)\n",
    "Solve2 = []\n"
   ]
  },
  {
   "cell_type": "code",
   "execution_count": 6,
   "id": "994cba79-c487-4acb-b37c-f8be5b9f7f8c",
   "metadata": {},
   "outputs": [
    {
     "name": "stderr",
     "output_type": "stream",
     "text": [
      "C:\\Users\\Dieter\\AppData\\Local\\Temp\\ipykernel_7612\\3659947509.py:5: RuntimeWarning: invalid value encountered in sqrt\n",
      "  np.sqrt(\n"
     ]
    }
   ],
   "source": [
    "for i in range(len(Qx)):\n",
    "    Solve1[i] = [\n",
    "        np.arccos(\n",
    "        np.sqrt(2) * \n",
    "        np.sqrt(\n",
    "        (k2 - k3) * \n",
    "            (Qx[i]**2 * k1 * dx**2 + \n",
    "             2 * k3 * Phi[i] * Phi[i-1] + \n",
    "             2 * k2 * Phi[i] * Phi[i-1] + \n",
    "             2 * k2 * Phi[i-1]**2 + \n",
    "             2 * k2 * Phi[i-1] * T0 * dx + \n",
    "             2 * k2 * Phi[i]**2 - \n",
    "             4 * k2 * Phi[i] * Phi[i-1] - \n",
    "             2 * k2 * Phi[i] * T0 * dx - \n",
    "             k3 * Phi[i]**2 - \n",
    "             k3 * Phi[i-1]**2 - \n",
    "             k3 * Qx[i]**2 * dx**2 + \n",
    "             Ex**2 * dx**2)\n",
    "        )\n",
    "    )\n",
    "    ]\n",
    "    "
   ]
  },
  {
   "cell_type": "code",
   "execution_count": 114,
   "id": "181878c3-513d-460d-8779-871b7dc209cf",
   "metadata": {},
   "outputs": [],
   "source": [
    "i = 4\n",
    "S1 = [\n",
    "        #np.arccos(\n",
    "        #np.sqrt(2) * \n",
    "        #np.sqrt(\n",
    "        (k2 - k3) * \n",
    "            (Qx[i]**2 * k1 * dx**2 + \n",
    "             2 * k3 * Phi[i] * Phi[i-1] + \n",
    "             2 * k2 * Phi[i] * Phi[i-1] + \n",
    "             2 * k2 * Phi[i-1]**2 + \n",
    "             2 * k2 * Phi[i-1] * T0 * dx + \n",
    "             2 * k2 * Phi[i]**2 - \n",
    "             4 * k2 * Phi[i] * Phi[i-1] - \n",
    "             2 * k2 * Phi[i] * T0 * dx - \n",
    "             k3 * Phi[i]**2 - \n",
    "             k3 * Phi[i-1]**2 - \n",
    "             k3 * Qx[i]**2 * dx**2 + \n",
    "             Ex**2 * dx**2)\n",
    "        #)\n",
    "    #)\n",
    "    ]"
   ]
  },
  {
   "cell_type": "code",
   "execution_count": 115,
   "id": "5f94a4b1-6c19-4acf-bba5-b6ca64a7fcc3",
   "metadata": {},
   "outputs": [
    {
     "data": {
      "text/plain": [
       "1000020.9259302085"
      ]
     },
     "execution_count": 115,
     "metadata": {},
     "output_type": "execute_result"
    }
   ],
   "source": [
    "(Qx[i]**2 * k1 * dx**2 + \n",
    " 2 * k3 * Phi[i] * Phi[i-1] + \n",
    " 2 * k2 * Phi[i] * Phi[i-1] + \n",
    " 2 * k2 * Phi[i-1]**2 + \n",
    " 2 * k2 * Phi[i-1] * T0 * dx + \n",
    " 2 * k2 * Phi[i]**2 - \n",
    " 4 * k2 * Phi[i] * Phi[i-1] - \n",
    " 2 * k2 * Phi[i] * T0 * dx - \n",
    " k3 * Phi[i]**2 - \n",
    " k3 * Phi[i-1]**2 - \n",
    " k3 * Qx[i]**2 * dx**2 + \n",
    " Ex**2 * dx**2)"
   ]
  },
  {
   "cell_type": "code",
   "execution_count": 125,
   "id": "8a2abb2b-93ee-4978-bf48-49e2870a04d9",
   "metadata": {},
   "outputs": [
    {
     "data": {
      "text/plain": [
       "2.2102749232149534e-05"
      ]
     },
     "execution_count": 125,
     "metadata": {},
     "output_type": "execute_result"
    }
   ],
   "source": [
    "Qx[i]**2 * k1 * dx**2"
   ]
  },
  {
   "cell_type": "code",
   "execution_count": 126,
   "id": "a9daf8c4-e2fd-444d-9de3-ca285027a357",
   "metadata": {},
   "outputs": [
    {
     "data": {
      "text/plain": [
       "70.45798813230066"
      ]
     },
     "execution_count": 126,
     "metadata": {},
     "output_type": "execute_result"
    }
   ],
   "source": [
    "2 * k3 * Phi[i] * Phi[i-1]"
   ]
  },
  {
   "cell_type": "code",
   "execution_count": 127,
   "id": "40b60b7b-b028-4811-b8dc-65af69b08253",
   "metadata": {},
   "outputs": [
    {
     "data": {
      "text/plain": [
       "20.923297580724643"
      ]
     },
     "execution_count": 127,
     "metadata": {},
     "output_type": "execute_result"
    }
   ],
   "source": [
    "2 * k2 * Phi[i] * Phi[i-1]"
   ]
  },
  {
   "cell_type": "code",
   "execution_count": 128,
   "id": "eff955e3-344b-42d7-b236-9b74212549a9",
   "metadata": {},
   "outputs": [
    {
     "data": {
      "text/plain": [
       "20.96552421559997"
      ]
     },
     "execution_count": 128,
     "metadata": {},
     "output_type": "execute_result"
    }
   ],
   "source": [
    "2 * k2 * Phi[i-1]**2"
   ]
  },
  {
   "cell_type": "code",
   "execution_count": 129,
   "id": "31868c65-f1cf-48e9-b7c1-6b778e26d000",
   "metadata": {},
   "outputs": [
    {
     "data": {
      "text/plain": [
       "1.3427714185748807"
      ]
     },
     "execution_count": 129,
     "metadata": {},
     "output_type": "execute_result"
    }
   ],
   "source": [
    "2 * k2 * Phi[i-1] * T0 * dx"
   ]
  },
  {
   "cell_type": "code",
   "execution_count": 130,
   "id": "0050ee77-6645-42bc-b73b-fa809a94bc83",
   "metadata": {},
   "outputs": [
    {
     "data": {
      "text/plain": [
       "20.881155994459338"
      ]
     },
     "execution_count": 130,
     "metadata": {},
     "output_type": "execute_result"
    }
   ],
   "source": [
    "2 * k2 * Phi[i]**2"
   ]
  },
  {
   "cell_type": "code",
   "execution_count": 131,
   "id": "8f70c483-d488-4f9c-bc0c-dff226a6bcf5",
   "metadata": {},
   "outputs": [
    {
     "data": {
      "text/plain": [
       "41.84659516144929"
      ]
     },
     "execution_count": 131,
     "metadata": {},
     "output_type": "execute_result"
    }
   ],
   "source": [
    "4 * k2 * Phi[i] * Phi[i-1]"
   ]
  },
  {
   "cell_type": "code",
   "execution_count": 132,
   "id": "428e9c47-395a-4219-8c9f-6848f15f4d98",
   "metadata": {},
   "outputs": [
    {
     "data": {
      "text/plain": [
       "1.3400669444186373"
      ]
     },
     "execution_count": 132,
     "metadata": {},
     "output_type": "execute_result"
    }
   ],
   "source": [
    "2 * k2 * Phi[i] * T0 * dx"
   ]
  },
  {
   "cell_type": "code",
   "execution_count": null,
   "id": "ca42af02-a69b-4a4f-b7aa-e491be89bcca",
   "metadata": {},
   "outputs": [],
   "source": []
  }
 ],
 "metadata": {
  "kernelspec": {
   "display_name": "Python 3 (ipykernel)",
   "language": "python",
   "name": "python3"
  },
  "language_info": {
   "codemirror_mode": {
    "name": "ipython",
    "version": 3
   },
   "file_extension": ".py",
   "mimetype": "text/x-python",
   "name": "python",
   "nbconvert_exporter": "python",
   "pygments_lexer": "ipython3",
   "version": "3.9.13"
  }
 },
 "nbformat": 4,
 "nbformat_minor": 5
}
